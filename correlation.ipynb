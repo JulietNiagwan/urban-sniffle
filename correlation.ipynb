{
 "cells": [
  {
   "cell_type": "code",
   "execution_count": 1,
   "id": "252d69a7-4d01-4af5-86bb-bfae75fe7589",
   "metadata": {},
   "outputs": [],
   "source": [
    "import pandas as pd"
   ]
  },
  {
   "cell_type": "code",
   "execution_count": 3,
   "id": "6074bf32-b178-4fcd-b23f-433bd23a842f",
   "metadata": {},
   "outputs": [],
   "source": [
    "# Create the DataFrame\n",
    "student_performance= pd.DataFrame({\n",
    "    'StudentID': [1, 2, 3, 4, 5,6,7,8,9,10,11,12,13,14,15],\n",
    "    'hours_studied': [5,3,8,2,6,7,4,3,9,5,6,2,8,7,4],\n",
    "    'hours_slept': [7,6,8,5,7,8,6,6,9,7,8,5,7,8,6],\n",
    "    'class_participation': [8,6,9,4,7,9,5,6,10,8,9,4,8,9,6],\n",
    "    'test_score':[85,78,92,65,88,90,75,70,95,80,85,60,90,92,78]\n",
    "})\n"
   ]
  },
  {
   "cell_type": "code",
   "execution_count": 4,
   "id": "2aa0879a-6d58-479d-af9e-50f66fd0808d",
   "metadata": {},
   "outputs": [
    {
     "data": {
      "text/html": [
       "<div>\n",
       "<style scoped>\n",
       "    .dataframe tbody tr th:only-of-type {\n",
       "        vertical-align: middle;\n",
       "    }\n",
       "\n",
       "    .dataframe tbody tr th {\n",
       "        vertical-align: top;\n",
       "    }\n",
       "\n",
       "    .dataframe thead th {\n",
       "        text-align: right;\n",
       "    }\n",
       "</style>\n",
       "<table border=\"1\" class=\"dataframe\">\n",
       "  <thead>\n",
       "    <tr style=\"text-align: right;\">\n",
       "      <th></th>\n",
       "      <th>StudentID</th>\n",
       "      <th>hours_studied</th>\n",
       "      <th>hours_slept</th>\n",
       "      <th>class_participation</th>\n",
       "      <th>test_score</th>\n",
       "    </tr>\n",
       "  </thead>\n",
       "  <tbody>\n",
       "    <tr>\n",
       "      <th>0</th>\n",
       "      <td>1</td>\n",
       "      <td>5</td>\n",
       "      <td>7</td>\n",
       "      <td>8</td>\n",
       "      <td>85</td>\n",
       "    </tr>\n",
       "    <tr>\n",
       "      <th>1</th>\n",
       "      <td>2</td>\n",
       "      <td>3</td>\n",
       "      <td>6</td>\n",
       "      <td>6</td>\n",
       "      <td>78</td>\n",
       "    </tr>\n",
       "    <tr>\n",
       "      <th>2</th>\n",
       "      <td>3</td>\n",
       "      <td>8</td>\n",
       "      <td>8</td>\n",
       "      <td>9</td>\n",
       "      <td>92</td>\n",
       "    </tr>\n",
       "    <tr>\n",
       "      <th>3</th>\n",
       "      <td>4</td>\n",
       "      <td>2</td>\n",
       "      <td>5</td>\n",
       "      <td>4</td>\n",
       "      <td>65</td>\n",
       "    </tr>\n",
       "    <tr>\n",
       "      <th>4</th>\n",
       "      <td>5</td>\n",
       "      <td>6</td>\n",
       "      <td>7</td>\n",
       "      <td>7</td>\n",
       "      <td>88</td>\n",
       "    </tr>\n",
       "    <tr>\n",
       "      <th>5</th>\n",
       "      <td>6</td>\n",
       "      <td>7</td>\n",
       "      <td>8</td>\n",
       "      <td>9</td>\n",
       "      <td>90</td>\n",
       "    </tr>\n",
       "    <tr>\n",
       "      <th>6</th>\n",
       "      <td>7</td>\n",
       "      <td>4</td>\n",
       "      <td>6</td>\n",
       "      <td>5</td>\n",
       "      <td>75</td>\n",
       "    </tr>\n",
       "    <tr>\n",
       "      <th>7</th>\n",
       "      <td>8</td>\n",
       "      <td>3</td>\n",
       "      <td>6</td>\n",
       "      <td>6</td>\n",
       "      <td>70</td>\n",
       "    </tr>\n",
       "    <tr>\n",
       "      <th>8</th>\n",
       "      <td>9</td>\n",
       "      <td>9</td>\n",
       "      <td>9</td>\n",
       "      <td>10</td>\n",
       "      <td>95</td>\n",
       "    </tr>\n",
       "    <tr>\n",
       "      <th>9</th>\n",
       "      <td>10</td>\n",
       "      <td>5</td>\n",
       "      <td>7</td>\n",
       "      <td>8</td>\n",
       "      <td>80</td>\n",
       "    </tr>\n",
       "    <tr>\n",
       "      <th>10</th>\n",
       "      <td>11</td>\n",
       "      <td>6</td>\n",
       "      <td>8</td>\n",
       "      <td>9</td>\n",
       "      <td>85</td>\n",
       "    </tr>\n",
       "    <tr>\n",
       "      <th>11</th>\n",
       "      <td>12</td>\n",
       "      <td>2</td>\n",
       "      <td>5</td>\n",
       "      <td>4</td>\n",
       "      <td>60</td>\n",
       "    </tr>\n",
       "    <tr>\n",
       "      <th>12</th>\n",
       "      <td>13</td>\n",
       "      <td>8</td>\n",
       "      <td>7</td>\n",
       "      <td>8</td>\n",
       "      <td>90</td>\n",
       "    </tr>\n",
       "    <tr>\n",
       "      <th>13</th>\n",
       "      <td>14</td>\n",
       "      <td>7</td>\n",
       "      <td>8</td>\n",
       "      <td>9</td>\n",
       "      <td>92</td>\n",
       "    </tr>\n",
       "    <tr>\n",
       "      <th>14</th>\n",
       "      <td>15</td>\n",
       "      <td>4</td>\n",
       "      <td>6</td>\n",
       "      <td>6</td>\n",
       "      <td>78</td>\n",
       "    </tr>\n",
       "  </tbody>\n",
       "</table>\n",
       "</div>"
      ],
      "text/plain": [
       "    StudentID  hours_studied  hours_slept  class_participation  test_score\n",
       "0           1              5            7                    8          85\n",
       "1           2              3            6                    6          78\n",
       "2           3              8            8                    9          92\n",
       "3           4              2            5                    4          65\n",
       "4           5              6            7                    7          88\n",
       "5           6              7            8                    9          90\n",
       "6           7              4            6                    5          75\n",
       "7           8              3            6                    6          70\n",
       "8           9              9            9                   10          95\n",
       "9          10              5            7                    8          80\n",
       "10         11              6            8                    9          85\n",
       "11         12              2            5                    4          60\n",
       "12         13              8            7                    8          90\n",
       "13         14              7            8                    9          92\n",
       "14         15              4            6                    6          78"
      ]
     },
     "execution_count": 4,
     "metadata": {},
     "output_type": "execute_result"
    }
   ],
   "source": [
    "# Calling the dataframe\n",
    "student_performance"
   ]
  },
  {
   "cell_type": "code",
   "execution_count": 27,
   "id": "ee6ef192-7e4c-460b-bf94-18becfc5ca05",
   "metadata": {},
   "outputs": [
    {
     "data": {
      "text/plain": [
       "Index(['StudentID', 'hours_studied', 'hours_slept', 'class_participation',\n",
       "       'test_score'],\n",
       "      dtype='object')"
      ]
     },
     "execution_count": 27,
     "metadata": {},
     "output_type": "execute_result"
    }
   ],
   "source": [
    "# calling the columns\n",
    "student_performance.columns"
   ]
  },
  {
   "cell_type": "code",
   "execution_count": 5,
   "id": "97ff094b-8909-46e9-971b-2076db9c6257",
   "metadata": {},
   "outputs": [
    {
     "data": {
      "text/html": [
       "<div>\n",
       "<style scoped>\n",
       "    .dataframe tbody tr th:only-of-type {\n",
       "        vertical-align: middle;\n",
       "    }\n",
       "\n",
       "    .dataframe tbody tr th {\n",
       "        vertical-align: top;\n",
       "    }\n",
       "\n",
       "    .dataframe thead th {\n",
       "        text-align: right;\n",
       "    }\n",
       "</style>\n",
       "<table border=\"1\" class=\"dataframe\">\n",
       "  <thead>\n",
       "    <tr style=\"text-align: right;\">\n",
       "      <th></th>\n",
       "      <th>StudentID</th>\n",
       "      <th>hours_studied</th>\n",
       "      <th>hours_slept</th>\n",
       "      <th>class_participation</th>\n",
       "      <th>test_score</th>\n",
       "    </tr>\n",
       "  </thead>\n",
       "  <tbody>\n",
       "    <tr>\n",
       "      <th>count</th>\n",
       "      <td>15.000000</td>\n",
       "      <td>15.000000</td>\n",
       "      <td>15.000000</td>\n",
       "      <td>15.000000</td>\n",
       "      <td>15.000000</td>\n",
       "    </tr>\n",
       "    <tr>\n",
       "      <th>mean</th>\n",
       "      <td>8.000000</td>\n",
       "      <td>5.266667</td>\n",
       "      <td>6.866667</td>\n",
       "      <td>7.200000</td>\n",
       "      <td>81.533333</td>\n",
       "    </tr>\n",
       "    <tr>\n",
       "      <th>std</th>\n",
       "      <td>4.472136</td>\n",
       "      <td>2.250926</td>\n",
       "      <td>1.187234</td>\n",
       "      <td>1.934647</td>\n",
       "      <td>10.521180</td>\n",
       "    </tr>\n",
       "    <tr>\n",
       "      <th>min</th>\n",
       "      <td>1.000000</td>\n",
       "      <td>2.000000</td>\n",
       "      <td>5.000000</td>\n",
       "      <td>4.000000</td>\n",
       "      <td>60.000000</td>\n",
       "    </tr>\n",
       "    <tr>\n",
       "      <th>25%</th>\n",
       "      <td>4.500000</td>\n",
       "      <td>3.500000</td>\n",
       "      <td>6.000000</td>\n",
       "      <td>6.000000</td>\n",
       "      <td>76.500000</td>\n",
       "    </tr>\n",
       "    <tr>\n",
       "      <th>50%</th>\n",
       "      <td>8.000000</td>\n",
       "      <td>5.000000</td>\n",
       "      <td>7.000000</td>\n",
       "      <td>8.000000</td>\n",
       "      <td>85.000000</td>\n",
       "    </tr>\n",
       "    <tr>\n",
       "      <th>75%</th>\n",
       "      <td>11.500000</td>\n",
       "      <td>7.000000</td>\n",
       "      <td>8.000000</td>\n",
       "      <td>9.000000</td>\n",
       "      <td>90.000000</td>\n",
       "    </tr>\n",
       "    <tr>\n",
       "      <th>max</th>\n",
       "      <td>15.000000</td>\n",
       "      <td>9.000000</td>\n",
       "      <td>9.000000</td>\n",
       "      <td>10.000000</td>\n",
       "      <td>95.000000</td>\n",
       "    </tr>\n",
       "  </tbody>\n",
       "</table>\n",
       "</div>"
      ],
      "text/plain": [
       "       StudentID  hours_studied  hours_slept  class_participation  test_score\n",
       "count  15.000000      15.000000    15.000000            15.000000   15.000000\n",
       "mean    8.000000       5.266667     6.866667             7.200000   81.533333\n",
       "std     4.472136       2.250926     1.187234             1.934647   10.521180\n",
       "min     1.000000       2.000000     5.000000             4.000000   60.000000\n",
       "25%     4.500000       3.500000     6.000000             6.000000   76.500000\n",
       "50%     8.000000       5.000000     7.000000             8.000000   85.000000\n",
       "75%    11.500000       7.000000     8.000000             9.000000   90.000000\n",
       "max    15.000000       9.000000     9.000000            10.000000   95.000000"
      ]
     },
     "execution_count": 5,
     "metadata": {},
     "output_type": "execute_result"
    }
   ],
   "source": [
    " summary of the data\n",
    "#student_performance.describe()"
   ]
  },
  {
   "cell_type": "code",
   "execution_count": 28,
   "id": "a633a15a-8dba-4317-9e31-d968f18099ec",
   "metadata": {},
   "outputs": [
    {
     "name": "stdout",
     "output_type": "stream",
     "text": [
      "<class 'pandas.core.frame.DataFrame'>\n",
      "RangeIndex: 15 entries, 0 to 14\n",
      "Data columns (total 5 columns):\n",
      " #   Column               Non-Null Count  Dtype\n",
      "---  ------               --------------  -----\n",
      " 0   StudentID            15 non-null     int64\n",
      " 1   hours_studied        15 non-null     int64\n",
      " 2   hours_slept          15 non-null     int64\n",
      " 3   class_participation  15 non-null     int64\n",
      " 4   test_score           15 non-null     int64\n",
      "dtypes: int64(5)\n",
      "memory usage: 732.0 bytes\n"
     ]
    }
   ],
   "source": [
    "# checking datatypes and null values\n",
    "student_performance.info()"
   ]
  },
  {
   "cell_type": "code",
   "execution_count": 8,
   "id": "52d0dd74-8e47-4d0a-9b04-23e11be633a0",
   "metadata": {},
   "outputs": [
    {
     "data": {
      "text/html": [
       "<div>\n",
       "<style scoped>\n",
       "    .dataframe tbody tr th:only-of-type {\n",
       "        vertical-align: middle;\n",
       "    }\n",
       "\n",
       "    .dataframe tbody tr th {\n",
       "        vertical-align: top;\n",
       "    }\n",
       "\n",
       "    .dataframe thead th {\n",
       "        text-align: right;\n",
       "    }\n",
       "</style>\n",
       "<table border=\"1\" class=\"dataframe\">\n",
       "  <thead>\n",
       "    <tr style=\"text-align: right;\">\n",
       "      <th></th>\n",
       "      <th>hours_slept</th>\n",
       "      <th>test_score</th>\n",
       "    </tr>\n",
       "  </thead>\n",
       "  <tbody>\n",
       "    <tr>\n",
       "      <th>hours_slept</th>\n",
       "      <td>1.000000</td>\n",
       "      <td>0.921037</td>\n",
       "    </tr>\n",
       "    <tr>\n",
       "      <th>test_score</th>\n",
       "      <td>0.921037</td>\n",
       "      <td>1.000000</td>\n",
       "    </tr>\n",
       "  </tbody>\n",
       "</table>\n",
       "</div>"
      ],
      "text/plain": [
       "             hours_slept  test_score\n",
       "hours_slept     1.000000    0.921037\n",
       "test_score      0.921037    1.000000"
      ]
     },
     "execution_count": 8,
     "metadata": {},
     "output_type": "execute_result"
    }
   ],
   "source": [
    "# compute the correlation matrix\n",
    "sp = student_performance[['hours_slept', 'test_score']]\n",
    "sp.corr()"
   ]
  },
  {
   "cell_type": "code",
   "execution_count": null,
   "id": "7fa368b3-fc31-40bf-8973-bba70fce97e0",
   "metadata": {},
   "outputs": [],
   "source": [
    "# Visualisation\n",
    "# import relevant libraries \n",
    "import matplotlib.pyplot as plt \n",
    "import seaborn as sns  #how to import these libraries\n",
    "import warnings\n",
    "#ignore all warnings\n",
    "warnings.filterwarnings('ignore')"
   ]
  },
  {
   "cell_type": "code",
   "execution_count": 23,
   "id": "4e9d56d4-083b-4687-a7e2-be9919c78cc6",
   "metadata": {},
   "outputs": [
    {
     "data": {
      "image/png": "[encoded data removed]",
      "text/plain": [
       "<Figure size 700x300 with 1 Axes>"
      ]
     },
     "metadata": {},
     "output_type": "display_data"
    }
   ],
   "source": [
    "# scatter plot correlation matrix\n",
    "plt.figure(figsize=(7, 3))\n",
    "sns.scatterplot(x=\"hours_slept\", y='test_score',data=sp)\n",
    "plt.title(\"Relationship Between Hours Slept And Test Scores \")\n",
    "plt.xticks(rotation=90,fontsize=10)\n",
    "plt.xlabel('Hours Slept') \n",
    "plt.ylabel('Test Score')\n",
    "plt.show()"
   ]
  },
  {
   "cell_type": "code",
   "execution_count": null,
   "id": "5a128a67-d573-4002-a31e-5277a34065e0",
   "metadata": {},
   "outputs": [],
   "source": []
  },
  {
   "cell_type": "code",
   "execution_count": 19,
   "id": "62b204dc-df09-4d51-ad0d-90bd133faaf5",
   "metadata": {},
   "outputs": [
    {
     "data": {
      "image/png": "[encoded data removed]",
      "text/plain": [
       "<Figure size 600x400 with 2 Axes>"
      ]
     },
     "metadata": {},
     "output_type": "display_data"
    }
   ],
   "source": [
    "# Heatmap of the correlation matrix\n",
    "plt.figure(figsize=(6, 4))\n",
    "sns.heatmap(sp.corr(), annot=True, cmap='coolwarm')\n",
    "plt.title('Correlation Matrix')\n",
    "plt.show()"
   ]
  },
  {
   "cell_type": "markdown",
   "id": "79917142-f74e-4040-b69f-fca48e91c454",
   "metadata": {},
   "source": [
    "# Result interpretation\n",
    "\n",
    "Interpret the Result \n",
    "The correlation coefficients were interpreted as follows:\n",
    "The correlation matrix is computed using the corr() method.\n",
    "The matrix shows the correlation coefficient between the variables hours_slept and test_score.\n",
    "The correlation coefficient between hours_slept and test_score is approximately 0.921.\n",
    "Interpretation of the Correlation Coefficient:\n",
    "\n",
    "A correlation coefficient of 0.921 indicates a strong positive linear relationship between the hours slept and test scores.\n",
    "This suggests that as the number of hours slept increases, test scores tend to increase as well."
   ]
  },
  {
   "cell_type": "markdown",
   "id": "34b55cb4-f073-4684-b644-2970762952d3",
   "metadata": {},
   "source": [
    "# Conclusion\n",
    "\n",
    "This correlation analysis demonstrates the impact of sleep habits\n",
    "on academic performance. By including this analysis in my portfolio, \n",
    "I showcase my ability to use Python for data analysis, \n",
    "interpret correlations, and present findings clearly. \n",
    "This approach highlights my skills in understanding and \n",
    "conveying how different factors influence outcomes"
   ]
  },
  {
   "cell_type": "code",
   "execution_count": null,
   "id": "d01b1e90-b4e4-415a-81ff-3ca1b634f5be",
   "metadata": {},
   "outputs": [],
   "source": []
  }
 ],
 "metadata": {
  "kernelspec": {
   "display_name": "Python 3 (ipykernel)",
   "language": "python",
   "name": "python3"
  },
  "language_info": {
   "codemirror_mode": {
    "name": "ipython",
    "version": 3
   },
   "file_extension": ".py",
   "mimetype": "text/x-python",
   "name": "python",
   "nbconvert_exporter": "python",
   "pygments_lexer": "ipython3",
   "version": "3.11.7"
  }
 },
 "nbformat": 4,
 "nbformat_minor": 5
}
